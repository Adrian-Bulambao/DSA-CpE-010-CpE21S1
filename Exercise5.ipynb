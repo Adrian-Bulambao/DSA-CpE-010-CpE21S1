{
  "nbformat": 4,
  "nbformat_minor": 0,
  "metadata": {
    "colab": {
      "provenance": [],
      "authorship_tag": "ABX9TyMCMYTK74Ldf+kZQn+iLaDn",
      "include_colab_link": true
    },
    "kernelspec": {
      "name": "python3",
      "display_name": "Python 3"
    },
    "language_info": {
      "name": "python"
    }
  },
  "cells": [
    {
      "cell_type": "markdown",
      "metadata": {
        "id": "view-in-github",
        "colab_type": "text"
      },
      "source": [
        "<a href=\"https://colab.research.google.com/github/Adrian-Bulambao/DSA-CpE-010-CpE21S1/blob/main/Exercise5.ipynb\" target=\"_parent\"><img src=\"https://colab.research.google.com/assets/colab-badge.svg\" alt=\"Open In Colab\"/></a>"
      ]
    },
    {
      "cell_type": "code",
      "execution_count": 4,
      "metadata": {
        "colab": {
          "base_uri": "https://localhost:8080/"
        },
        "id": "IZG9K4mXan7e",
        "outputId": "cc2ee1e9-1757-4680-a7db-cddc2c8ccb76"
      },
      "outputs": [
        {
          "output_type": "stream",
          "name": "stdout",
          "text": [
            "i\n",
            "f\n"
          ]
        }
      ],
      "source": [
        "#Example 1\n",
        "\n",
        "import array\n",
        "array.typecodes # get all typecodes\n",
        "a =array.array('i', [1,2,3,4,5,6])\n",
        "b = array.array('f',[1.5,2.5,3.5,4.5,5.5,6.5])\n",
        "print(a.typecode)\n",
        "print(b.typecode)"
      ]
    },
    {
      "cell_type": "code",
      "source": [
        "#Example 2\n",
        "\n",
        "import array\n",
        "array.typecodes # get all typecodes\n",
        "a =array.array('f', [1,2,3,4,5,6]) #initializing array a\n",
        "b = array.array('f',[1.5,2.5,3.5,4.5,5.5,6.5])#initilizing array b\n",
        "print(a.typecode)\n",
        "print(b.typecode)"
      ],
      "metadata": {
        "colab": {
          "base_uri": "https://localhost:8080/"
        },
        "id": "uCAfk9zcbxjC",
        "outputId": "ca422061-b48a-4ae0-dc3e-b9fec723f4fe"
      },
      "execution_count": 5,
      "outputs": [
        {
          "output_type": "stream",
          "name": "stdout",
          "text": [
            "f\n",
            "f\n"
          ]
        }
      ]
    },
    {
      "cell_type": "code",
      "source": [
        "#\n",
        "from array import array #importing array from array module\n",
        "a=array('i',[4,5,6,7]) #initializing array\n",
        "a.insert(1,2) #inserting element 2 at index 1\n",
        "print(a) #printing array a\n",
        "array('i',[4,2,5,6,7])\n",
        "a.insert(-1,0) #inserting element 0 at index -1\n",
        "print(a)\n",
        "a.insert(10,-1) #inserting element -1 at index 10, thi is out of range\n",
        "print(a)"
      ],
      "metadata": {
        "colab": {
          "base_uri": "https://localhost:8080/"
        },
        "id": "cP7mMbJXcn5M",
        "outputId": "c873f700-1467-44ca-c739-8d26a2a8278c"
      },
      "execution_count": 9,
      "outputs": [
        {
          "output_type": "stream",
          "name": "stdout",
          "text": [
            "array('i', [4, 2, 5, 6, 7])\n",
            "array('i', [4, 2, 5, 6, 0, 7])\n",
            "array('i', [4, 2, 5, 6, 0, 7, -1])\n"
          ]
        }
      ]
    },
    {
      "cell_type": "code",
      "source": [
        "#Example 3\n",
        "class Node:\n",
        "  #Function to initialize the node object\n",
        "  def __init__(self, data):\n",
        "    self.data = data\n",
        "    self.next = None\n",
        "\n",
        "#Linked List Class\n",
        "class LinkedList():\n",
        "  #Function to initialize the Linked List Object\n",
        "  def __init__(self):\n",
        "    self.head = None"
      ],
      "metadata": {
        "id": "otjU_nmBeXAq"
      },
      "execution_count": null,
      "outputs": []
    },
    {
      "cell_type": "code",
      "source": [
        "#Example 4\n",
        "\n",
        "class Node:\n",
        "  #Function to initialize the node object\n",
        "  def __init__(self, data):\n",
        "    self.data = data\n",
        "    self.next = None\n",
        "\n",
        "#Linked List Class\n",
        "class LinkedList():\n",
        "  #Function to initialize the Linked List Object\n",
        "  def __init__(self):\n",
        "    self.head = None\n",
        "  def printdata(self):\n",
        "    temp = self.head\n",
        "    while (temp):\n",
        "      print(temp.data)\n",
        "      temp = temp.next\n",
        "\n",
        "\n",
        "\n",
        "\n",
        "#Code execution starts here\n",
        "if __name__=='__main__':\n",
        "\n",
        "  #start with the empty list\n",
        "  llist=LinkedList()\n",
        "  llist.head = Node(1)\n",
        "  second = Node(2)\n",
        "  third = Node(3)\n",
        "  llist.head.next = second #Link first node with second\n",
        "  second.next = third\n",
        "  llist.printdata()\n"
      ],
      "metadata": {
        "colab": {
          "base_uri": "https://localhost:8080/"
        },
        "id": "Z-WT45uDgRsb",
        "outputId": "d1a0a132-53f4-4e41-ac3e-ec203705412f"
      },
      "execution_count": 29,
      "outputs": [
        {
          "output_type": "stream",
          "name": "stdout",
          "text": [
            "1\n",
            "2\n",
            "3\n"
          ]
        }
      ]
    }
  ]
}
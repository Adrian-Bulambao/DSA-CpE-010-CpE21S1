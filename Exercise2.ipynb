{
  "nbformat": 4,
  "nbformat_minor": 0,
  "metadata": {
    "colab": {
      "provenance": [],
      "authorship_tag": "ABX9TyPcwBR7dclCUXj+Hr0yzNPf",
      "include_colab_link": true
    },
    "kernelspec": {
      "name": "python3",
      "display_name": "Python 3"
    },
    "language_info": {
      "name": "python"
    }
  },
  "cells": [
    {
      "cell_type": "markdown",
      "metadata": {
        "id": "view-in-github",
        "colab_type": "text"
      },
      "source": [
        "<a href=\"https://colab.research.google.com/github/Adrian-Bulambao/DSA-CpE-010-CpE21S1/blob/main/Exercise2.ipynb\" target=\"_parent\"><img src=\"https://colab.research.google.com/assets/colab-badge.svg\" alt=\"Open In Colab\"/></a>"
      ]
    },
    {
      "cell_type": "code",
      "execution_count": null,
      "metadata": {
        "colab": {
          "base_uri": "https://localhost:8080/"
        },
        "id": "-E5BQFXcN0ys",
        "outputId": "fb6b54f4-d516-46dc-cd77-73d63de92514"
      },
      "outputs": [
        {
          "output_type": "stream",
          "name": "stdout",
          "text": [
            "Enter rectangle width: 35\n",
            "Enter rectangle length: 1\n",
            "Enter triangle base: 5\n",
            "Enter triangle height: 9\n",
            "Enter square side: 5\n",
            "Area of rectangle:  35.0\n",
            "Area of triangle:  22.5\n",
            "Area of square:  25.0\n"
          ]
        }
      ],
      "source": [
        "class Shapes():\n",
        "\n",
        "  class Rectangle():\n",
        "    def __init__(self, width, length):\n",
        "      self.width = width\n",
        "      self.length = length\n",
        "\n",
        "  class Triangle():\n",
        "    def __init__(self, base, height):\n",
        "      self.base = base\n",
        "      self.height = height\n",
        "\n",
        "  class Square():\n",
        "    def __init__(self, side):\n",
        "      self.side = side\n",
        "\n",
        "w = float(input(\"Enter rectangle width: \"))\n",
        "l = float(input(\"Enter rectangle length: \"))\n",
        "\n",
        "b = float(input(\"Enter triangle base: \"))\n",
        "h = float(input(\"Enter triangle height: \"))\n",
        "\n",
        "s = float(input(\"Enter square side: \"))\n",
        "\n",
        "square = Shapes.Square(s)\n",
        "triangle = Shapes.Triangle(b,h)\n",
        "rectangle = Shapes.Rectangle(w, l)\n",
        "\n",
        "\n",
        "def Area():\n",
        "  print(\"Area of rectangle: \", rectangle.width * rectangle.length)\n",
        "  print(\"Area of triangle: \", (1/2)*triangle.base * triangle.height)\n",
        "  print(\"Area of square: \", square.side**2)\n",
        "\n",
        "Area()"
      ]
    }
  ]
}
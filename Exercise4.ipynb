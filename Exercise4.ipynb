{
  "nbformat": 4,
  "nbformat_minor": 0,
  "metadata": {
    "colab": {
      "provenance": [],
      "authorship_tag": "ABX9TyOs/gqP3UfxEhWSQASK8pYX",
      "include_colab_link": true
    },
    "kernelspec": {
      "name": "python3",
      "display_name": "Python 3"
    },
    "language_info": {
      "name": "python"
    }
  },
  "cells": [
    {
      "cell_type": "markdown",
      "metadata": {
        "id": "view-in-github",
        "colab_type": "text"
      },
      "source": [
        "<a href=\"https://colab.research.google.com/github/Adrian-Bulambao/DSA-CpE-010-CpE21S1/blob/main/Exercise4.ipynb\" target=\"_parent\"><img src=\"https://colab.research.google.com/assets/colab-badge.svg\" alt=\"Open In Colab\"/></a>"
      ]
    },
    {
      "cell_type": "code",
      "source": [
        "animals = [\"cat\", \"dog\", \"fish\"]\n",
        "txt = \"\".join(animals)\n",
        "slamina = [x[::-1] for x in animals]\n",
        "print(slamina)\n",
        "slamina.reverse()\n",
        "print(slamina)\n",
        "print(txt)\n",
        "a = txt[::-1]\n",
        "print(a)"
      ],
      "metadata": {
        "colab": {
          "base_uri": "https://localhost:8080/"
        },
        "id": "-h5BEBhJ0Z5h",
        "outputId": "7e412eb0-68bf-4d77-d79e-48847b9535ab"
      },
      "execution_count": 36,
      "outputs": [
        {
          "output_type": "stream",
          "name": "stdout",
          "text": [
            "['tac', 'god', 'hsif']\n",
            "['hsif', 'god', 'tac']\n",
            "catdogfish\n",
            "hsifgodtac\n"
          ]
        }
      ]
    }
  ]
}
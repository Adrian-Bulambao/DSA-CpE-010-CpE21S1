{
  "nbformat": 4,
  "nbformat_minor": 0,
  "metadata": {
    "colab": {
      "provenance": [],
      "authorship_tag": "ABX9TyN6sD8k5JhxcNPsQQMYsqxT",
      "include_colab_link": true
    },
    "kernelspec": {
      "name": "python3",
      "display_name": "Python 3"
    },
    "language_info": {
      "name": "python"
    }
  },
  "cells": [
    {
      "cell_type": "markdown",
      "metadata": {
        "id": "view-in-github",
        "colab_type": "text"
      },
      "source": [
        "<a href=\"https://colab.research.google.com/github/Adrian-Bulambao/DSA-CpE-010-CpE21S1/blob/main/Exercise_1.ipynb\" target=\"_parent\"><img src=\"https://colab.research.google.com/assets/colab-badge.svg\" alt=\"Open In Colab\"/></a>"
      ]
    },
    {
      "cell_type": "code",
      "execution_count": 4,
      "metadata": {
        "colab": {
          "base_uri": "https://localhost:8080/"
        },
        "id": "dPb68RIe9M5l",
        "outputId": "9482c341-2d09-4bcd-fc39-a7f8ae77ac41"
      },
      "outputs": [
        {
          "output_type": "stream",
          "name": "stdout",
          "text": [
            "Enter rectangle width: 25\n",
            "Enter rectangle height: 65\n",
            "Area of rectangle:  1625\n"
          ]
        }
      ],
      "source": [
        "class Rectangle():\n",
        "  def __init__(self, width, height):\n",
        "    self.width = width\n",
        "    self.height = height\n",
        "\n",
        "w = int(input(\"Enter rectangle width: \"))\n",
        "h = int(input(\"Enter rectangle height: \"))\n",
        "rectang = Rectangle(w, h)\n",
        "def Area():\n",
        "  print(\"Area of rectangle: \", rectang.width * rectang.height)\n",
        "\n",
        "Area()\n"
      ]
    },
    {
      "cell_type": "code",
      "source": [],
      "metadata": {
        "id": "PB2BWM2ZbxCB"
      },
      "execution_count": null,
      "outputs": []
    }
  ]
}